{
 "cells": [
  {
   "cell_type": "markdown",
   "id": "369caff7-db7a-4ace-96fc-42201ea2056c",
   "metadata": {},
   "source": [
    "# Data Science Tools and Ecosystem"
   ]
  },
  {
   "cell_type": "markdown",
   "id": "029167e5-ea63-4fa6-8046-31a6e160b17f",
   "metadata": {},
   "source": [
    "In this notebook, Data Science Tools and Ecosystem are summarized."
   ]
  },
  {
   "cell_type": "markdown",
   "id": "c3e61ffb-0027-420c-a0f2-d341b844d0de",
   "metadata": {},
   "source": [
    "Some of the popular languages that Data Scientists use are:"
   ]
  },
  {
   "cell_type": "markdown",
   "id": "27b4c766-e9b2-42ae-942f-575773a9d5df",
   "metadata": {},
   "source": [
    "ordered list:\n",
    "1. Python\n",
    "2. R\n",
    "3. SQL"
   ]
  },
  {
   "cell_type": "markdown",
   "id": "4a2a3734-8fb0-4015-809d-645436e865c9",
   "metadata": {},
   "source": [
    "Some of the commonly used libraries used by Data Scientists include:\n",
    "\n",
    "ordered list:\n",
    "1. Numpy\n",
    "2. Pandas\n",
    "3. Matplotlib\n",
    "4. Seaborn"
   ]
  },
  {
   "cell_type": "markdown",
   "id": "fd0f44a4-9ea8-435c-b521-6e379ed4286a",
   "metadata": {},
   "source": [
    "## Data Science Tools\n",
    "\n",
    "1. Jupyter Notebook\n",
    "2. RStudio\n",
    "3. Visual Code Studio"
   ]
  },
  {
   "cell_type": "markdown",
   "id": "85f9bab9-47a6-4112-95e1-9cca6a499bf8",
   "metadata": {},
   "source": [
    "### Below are a few examples of evaluating arithmetic expressions in Python\n"
   ]
  },
  {
   "cell_type": "code",
   "execution_count": 3,
   "id": "1ab6a928-aa97-4017-85a5-0c19bc448e99",
   "metadata": {},
   "outputs": [
    {
     "data": {
      "text/plain": [
       "17"
      ]
     },
     "execution_count": 3,
     "metadata": {},
     "output_type": "execute_result"
    }
   ],
   "source": [
    "(3*4)+5\n",
    "#This a simple arithmetic expression to mutiply then add integers."
   ]
  },
  {
   "cell_type": "code",
   "execution_count": 6,
   "id": "4c48b896-8168-4ce1-be07-67e5a3cf4587",
   "metadata": {},
   "outputs": [
    {
     "data": {
      "text/plain": [
       "3.3333333333333335"
      ]
     },
     "execution_count": 6,
     "metadata": {},
     "output_type": "execute_result"
    }
   ],
   "source": [
    "hours=200/60\n",
    "hours\n",
    "#This will convert 200 minutes to hours by diving by 60."
   ]
  },
  {
   "cell_type": "markdown",
   "id": "aa8592d6-899d-482a-b7cb-b74dc25e5774",
   "metadata": {},
   "source": [
    "**Objectives:**\n",
    "\n",
    "- List popular programming languages used in Data Science\n",
    "- Understand the role of Data Scientists in various industries\n",
    "- Explore common libraries and tools used in Data Science workflows\n",
    "- Describe the Data Science process from data collection to deployment\n",
    "- Identify key skills required to succeed in the field of Data Science\n"
   ]
  },
  {
   "cell_type": "markdown",
   "id": "e9d6928d-a78e-4cdb-b1d7-1ed82b803788",
   "metadata": {},
   "source": [
    "## Author\n",
    "LIKITHA SRI MADDIPATLA\n"
   ]
  },
  {
   "cell_type": "code",
   "execution_count": null,
   "id": "5452bdc1-7e05-48f2-bd66-f36e6dfb96fb",
   "metadata": {},
   "outputs": [],
   "source": []
  }
 ],
 "metadata": {
  "kernelspec": {
   "display_name": "Python 3 (ipykernel)",
   "language": "python",
   "name": "python3"
  },
  "language_info": {
   "codemirror_mode": {
    "name": "ipython",
    "version": 3
   },
   "file_extension": ".py",
   "mimetype": "text/x-python",
   "name": "python",
   "nbconvert_exporter": "python",
   "pygments_lexer": "ipython3",
   "version": "3.13.3"
  }
 },
 "nbformat": 4,
 "nbformat_minor": 5
}
